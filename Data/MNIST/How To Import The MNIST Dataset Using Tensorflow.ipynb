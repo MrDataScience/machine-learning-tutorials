{
 "cells": [
  {
   "cell_type": "markdown",
   "metadata": {},
   "source": [
    "## Objective\n",
    "The objective of this article is to:\n",
    "<ul>\n",
    "    <li>Demonstrate how the MNIST dataset can be imported from an online repository using tensorflow 2.0</li>\n",
    "</ul>"
   ]
  },
  {
   "cell_type": "markdown",
   "metadata": {},
   "source": [
    "## Assumptions\n",
    "We will assume that:\n",
    "<ul>\n",
    "    <li>You have python installed on your machine and are able to install relevant python libraries on your own</li>\n",
    "    <li>You are familiar with the python programming language and its syntax</li>\n",
    "    <li>You have tensorflow 2.0 installed on your machine</li>\n",
    "</ul>"
   ]
  },
  {
   "cell_type": "markdown",
   "metadata": {},
   "source": [
    "## Background\n",
    "If you are not familiar with the MNIST dataset, it contains a collection of 70,000, 28 x 28 images of handwritten digits from 0 to 9. This dataset is often used by data scientists to evaluate and compare neural network architectures and performance within the literature. It is particularly popular among amateur data scientists because it is publicly available, contains a large quantity of data, requires very little pre-processing, and there is a large body of online tutorials dedicated to applications using this dataset. For more information, head over to Yann LeCun's site: http://yann.lecun.com/exdb/mnist/. The dataset is available for reuse under the terms of a Creative Commons Attribution-Share Alike 3.0 license. You can find more information about the license here: https://creativecommons.org/licenses/by-sa/3.0/ "
   ]
  },
  {
   "cell_type": "markdown",
   "metadata": {},
   "source": [
    "## Importing MNIST dataset using Tensorflow\n",
    "In this step, we assume you have internet connectivity. Connectivity is necessary for this tutorial because the tensorflow library imports the dataset from https://storage.googleapis.com/tensorflow/tf-keras-datasets/mnist.npz by default. If you do not have internet connectivity, for some strange reason, you can follow our \"How to import the MNIST dataset from a local directory\" tutorial. "
   ]
  },
  {
   "cell_type": "markdown",
   "metadata": {},
   "source": [
    "To load the MNIST dataset, use the following code:"
   ]
  },
  {
   "cell_type": "code",
   "execution_count": 1,
   "metadata": {},
   "outputs": [],
   "source": [
    "from tensorflow.keras.datasets import mnist\n",
    "(X_train, Y_train), (X_test, Y_test) = mnist.load_data()"
   ]
  },
  {
   "cell_type": "markdown",
   "metadata": {},
   "source": [
    "The MNIST dataset will be loaded as a set of training and test inputs (X) and outputs (Y). The imputs are samples of digit images while the outputs contain the numerical value each input represents. The exact shape of each dataset is provided below for your convenience."
   ]
  },
  {
   "cell_type": "code",
   "execution_count": 2,
   "metadata": {},
   "outputs": [
    {
     "name": "stdout",
     "output_type": "stream",
     "text": [
      "MNIST Dataset Shape:\n",
      "X_train: (60000, 28, 28)\n",
      "Y_train: (60000,)\n",
      "X_test:  (10000, 28, 28)\n",
      "Y_test:  (10000,)\n"
     ]
    }
   ],
   "source": [
    "print('MNIST Dataset Shape:')\n",
    "print('X_train: ' + str(X_train.shape))\n",
    "print('Y_train: ' + str(Y_train.shape))\n",
    "print('X_test:  '  + str(X_test.shape))\n",
    "print('Y_test:  '  + str(Y_test.shape))"
   ]
  },
  {
   "cell_type": "markdown",
   "metadata": {},
   "source": [
    "## Summary\n",
    "After reading this document, you should:\n",
    "<ul>\n",
    "    <li>Know how to import the MNIST dataset using Tensorflow</li>\n",
    "    <li>Recognize the MNIST test and training set shapes</li>\n",
    "</ul>"
   ]
  },
  {
   "cell_type": "markdown",
   "metadata": {},
   "source": [
    "## References\n",
    "<p>[1] LeCun, Y. (n.d.). THE MNIST DATABASE. Retrieved January 5, 2020, from http://yann.lecun.com/exdb/mnist/.</p>\n",
    "<p>[2] tf.keras.datasets.mnist.load_data  :   TensorFlow Core r2.1. (n.d.). Retrieved January 9, 2020, from https://www.tensorflow.org/api_docs/python/tf/keras/datasets/mnist/load_data.</p>"
   ]
  },
  {
   "cell_type": "markdown",
   "metadata": {},
   "source": [
    "## Connect With Mr Data Science:\n",
    "<a href=\"https://www.mrdatascience.com\">mrdatascience.com</a>,\n",
    "<a href=\"https://gist.github.com/MrDataScience\">GitHub</a>,\n",
    "<a href=\"https://medium.com/@mrdatascience\">Medium</a>,\n",
    "<a href=\"https://www.youtube.com/channel/UCHQeKhLl99Ho6EF0MNZozWQ?view_as=subscriber\">YouTube</a>\n"
   ]
  }
 ],
 "metadata": {
  "kernelspec": {
   "display_name": "Python 3",
   "language": "python",
   "name": "python3"
  },
  "language_info": {
   "codemirror_mode": {
    "name": "ipython",
    "version": 3
   },
   "file_extension": ".py",
   "mimetype": "text/x-python",
   "name": "python",
   "nbconvert_exporter": "python",
   "pygments_lexer": "ipython3",
   "version": "3.7.6"
  },
  "toc": {
   "base_numbering": 1,
   "nav_menu": {},
   "number_sections": false,
   "sideBar": true,
   "skip_h1_title": false,
   "title_cell": "Table of Contents",
   "title_sidebar": "Contents",
   "toc_cell": false,
   "toc_position": {},
   "toc_section_display": true,
   "toc_window_display": true
  },
  "varInspector": {
   "cols": {
    "lenName": 16,
    "lenType": 16,
    "lenVar": 40
   },
   "kernels_config": {
    "python": {
     "delete_cmd_postfix": "",
     "delete_cmd_prefix": "del ",
     "library": "var_list.py",
     "varRefreshCmd": "print(var_dic_list())"
    },
    "r": {
     "delete_cmd_postfix": ") ",
     "delete_cmd_prefix": "rm(",
     "library": "var_list.r",
     "varRefreshCmd": "cat(var_dic_list()) "
    }
   },
   "types_to_exclude": [
    "module",
    "function",
    "builtin_function_or_method",
    "instance",
    "_Feature"
   ],
   "window_display": false
  }
 },
 "nbformat": 4,
 "nbformat_minor": 2
}
