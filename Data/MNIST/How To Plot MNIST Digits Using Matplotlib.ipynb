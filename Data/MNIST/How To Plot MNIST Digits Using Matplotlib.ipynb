{
 "cells": [
  {
   "cell_type": "markdown",
   "metadata": {},
   "source": [
    "## Objective\n",
    "The objective of this article is to:\n",
    "<ul>\n",
    "    <li>Describe how to plot the MNIST digits using Matplotlib python library</li>\n",
    "</ul>"
   ]
  },
  {
   "cell_type": "markdown",
   "metadata": {},
   "source": [
    "## Assumptions\n",
    "Throughout this article, we will assume that:\n",
    "<ul>\n",
    "    <li>You are familiar with the python programming language and its syntax</li>\n",
    "    <li>You have python installed on your machine and are able to install relevant python libraries on your own</li>\n",
    "    <li>You are familiar with the MNIST dataset and want to visualize digits using python</li>\n",
    "</ul>"
   ]
  },
  {
   "cell_type": "markdown",
   "metadata": {},
   "source": [
    "## Background\n",
    "The MNIST dataset is a handwritten digit (0 through 9), 28 x 28 collection of images often used by data scientists to evaluate and compare neural network architecture performance within the literature. It is particularly popular among amateur data scientists because it is publicly available, contains a large quantity of data, requires little pre-processing, and a vast amount of online tutorials use this dataset to describe  neural network architectures. The original dataset, which was published by Yann LeCun in 1998, consists of 60,000 training set and 10,000 test set images that are size-normalized and centered. More information about the original dataset and the various models that have been used to minimize digit detection error can be found on this site: http://yann.lecun.com/exdb/mnist/. The dataset is available for reuse under the terms of a Creative Commons Attribution-Share Alike 3.0 license. You can find more information about this license here: https://creativecommons.org/licenses/by-sa/3.0/ "
   ]
  },
  {
   "cell_type": "markdown",
   "metadata": {},
   "source": [
    "## Importing the MNIST dataset"
   ]
  },
  {
   "cell_type": "markdown",
   "metadata": {},
   "source": [
    "Import the MNIST dataset using the following code: "
   ]
  },
  {
   "cell_type": "code",
   "execution_count": 1,
   "metadata": {},
   "outputs": [],
   "source": [
    "from tensorflow.keras.datasets import mnist\n",
    "(X_train, Y_train), (X_test, Y_test) = mnist.load_data()"
   ]
  },
  {
   "cell_type": "markdown",
   "metadata": {},
   "source": [
    "If you are unfamiliar with the import process, check out the following tutorials:"
   ]
  },
  {
   "cell_type": "markdown",
   "metadata": {},
   "source": [
    "https://mrdatascience.com/how-to-import-the-mnist-dataset-using-tensorflow/"
   ]
  },
  {
   "cell_type": "markdown",
   "metadata": {},
   "source": [
    "https://mrdatascience.com/how-to-import-the-mnist-dataset-from-local-directory-using-tensorflow/"
   ]
  },
  {
   "cell_type": "markdown",
   "metadata": {},
   "source": [
    "### Plotting a single MNIST digit using Matplotlib"
   ]
  },
  {
   "cell_type": "markdown",
   "metadata": {},
   "source": [
    "To plot an MNIST digit, we first need to import the Matplotlib.pyplot library as shown below. We will use the \"%matplotlib inline\" ipython magic function to tell Jupyter Notebook to display the plot directly below the command that created it."
   ]
  },
  {
   "cell_type": "code",
   "execution_count": 2,
   "metadata": {},
   "outputs": [],
   "source": [
    "import matplotlib.pyplot as plt\n",
    "%matplotlib inline"
   ]
  },
  {
   "cell_type": "markdown",
   "metadata": {},
   "source": [
    "To plot an individual MNIST image, we will first store the individual image in an \"image\" variable. You can pass this variable to the imshow method as shown below."
   ]
  },
  {
   "cell_type": "code",
   "execution_count": 3,
   "metadata": {},
   "outputs": [
    {
     "data": {
      "image/png": "[encoded data removed]",
      "text/plain": [
       "<Figure size 432x288 with 1 Axes>"
      ]
     },
     "metadata": {
      "needs_background": "light"
     },
     "output_type": "display_data"
    }
   ],
   "source": [
    "# pick a sample to plot\n",
    "sample = 1\n",
    "image = X_train[sample]\n",
    "\n",
    "# plot the sample\n",
    "fig = plt.figure\n",
    "plt.imshow(image, cmap='gray')\n",
    "plt.show()"
   ]
  },
  {
   "cell_type": "markdown",
   "metadata": {},
   "source": [
    "If you would like to have a white background and black digit, change the cmap color to 'gray_r' as shown below"
   ]
  },
  {
   "cell_type": "code",
   "execution_count": 4,
   "metadata": {},
   "outputs": [
    {
     "data": {
      "image/png": "[encoded data removed]",
      "text/plain": [
       "<Figure size 432x288 with 1 Axes>"
      ]
     },
     "metadata": {
      "needs_background": "light"
     },
     "output_type": "display_data"
    }
   ],
   "source": [
    "# plot the sample\n",
    "fig = plt.figure\n",
    "plt.imshow(image, cmap='gray_r')\n",
    "plt.show()"
   ]
  },
  {
   "cell_type": "markdown",
   "metadata": {},
   "source": [
    "In order to plot multiple digits, you can use a \"for\" loop, along with matplotlib's subplots functionality. First, we will define two numpy arrays that contains the images and labels we want to plot. For simplicity, we can use the first 10 images as shown below:"
   ]
  },
  {
   "cell_type": "code",
   "execution_count": 5,
   "metadata": {},
   "outputs": [],
   "source": [
    "num = 10\n",
    "images = X_train[:num]\n",
    "labels = Y_train[:num]"
   ]
  },
  {
   "cell_type": "markdown",
   "metadata": {},
   "source": [
    "Next, we will initialize the figure and axes handles using matplotlib's subplots command, then iteratively display the digit images and labels."
   ]
  },
  {
   "cell_type": "code",
   "execution_count": 6,
   "metadata": {},
   "outputs": [
    {
     "data": {
      "image/png": "[encoded data removed]",
      "text/plain": [
       "<Figure size 540x288 with 10 Axes>"
      ]
     },
     "metadata": {
      "needs_background": "light"
     },
     "output_type": "display_data"
    }
   ],
   "source": [
    "num_row = 2\n",
    "num_col = 5\n",
    "\n",
    "# plot images\n",
    "fig, axes = plt.subplots(num_row, num_col, figsize=(1.5*num_col,2*num_row))\n",
    "for i in range(num):\n",
    "    ax = axes[i//num_col, i%num_col]\n",
    "    ax.imshow(images[i], cmap='gray')\n",
    "    ax.set_title('Label: {}'.format(labels[i]))\n",
    "plt.tight_layout()\n",
    "plt.show()"
   ]
  },
  {
   "cell_type": "markdown",
   "metadata": {},
   "source": [
    "A lot happened in the previous command, so we will break it down below. First, we specified the number of rows and columns to be displayed. Next, the subplots command created fig and axes handles, while specifying the figure dimensions through the figsize parameter. Later, a for loop was used to iterate through each of the 10 images. Within the loop, the axes command selects the axis, imshow displays the digit image, and set_title is used to display the digit as a label above each image. The tight_layout command cleans up the image and show tells matplotlib to display the images."
   ]
  },
  {
   "cell_type": "markdown",
   "metadata": {},
   "source": [
    "## Summary\n",
    "After reading this document, you should:\n",
    "<ul>\n",
    "    <li>Know how to plot a single mnist digit using matplotlib</li>\n",
    "    <li>Know how to plot multiple mnist digit using matplotlib</li>\n",
    "</ul>"
   ]
  },
  {
   "cell_type": "markdown",
   "metadata": {},
   "source": [
    "## References\n",
    "<p>[1] LeCun, Y. (n.d.). THE MNIST DATABASE. Retrieved January 5, 2020, from http://yann.lecun.com/exdb/mnist/.</p>\n",
    "<p>[2] tf.keras.datasets.mnist.load_data  :   TensorFlow Core r2.1. (n.d.). Retrieved January 9, 2020, from https://www.tensorflow.org/api_docs/python/tf/keras/datasets/mnist/load_data.</p>"
   ]
  },
  {
   "cell_type": "markdown",
   "metadata": {},
   "source": [
    "## Connect With Mr Data Science:\n",
    "<a href=\"https://www.mrdatascience.com\">mrdatascience.com</a>,\n",
    "<a href=\"https://gist.github.com/MrDataScience\">GitHub</a>,\n",
    "<a href=\"https://medium.com/@mrdatascience\">Medium</a>,\n",
    "<a href=\"https://www.youtube.com/channel/UCHQeKhLl99Ho6EF0MNZozWQ?view_as=subscriber\">YouTube</a>\n"
   ]
  }
 ],
 "metadata": {
  "kernelspec": {
   "display_name": "Python 3",
   "language": "python",
   "name": "python3"
  },
  "language_info": {
   "codemirror_mode": {
    "name": "ipython",
    "version": 3
   },
   "file_extension": ".py",
   "mimetype": "text/x-python",
   "name": "python",
   "nbconvert_exporter": "python",
   "pygments_lexer": "ipython3",
   "version": "3.7.6"
  },
  "toc": {
   "base_numbering": 1,
   "nav_menu": {},
   "number_sections": false,
   "sideBar": true,
   "skip_h1_title": false,
   "title_cell": "Table of Contents",
   "title_sidebar": "Contents",
   "toc_cell": false,
   "toc_position": {},
   "toc_section_display": true,
   "toc_window_display": true
  },
  "varInspector": {
   "cols": {
    "lenName": 16,
    "lenType": 16,
    "lenVar": 40
   },
   "kernels_config": {
    "python": {
     "delete_cmd_postfix": "",
     "delete_cmd_prefix": "del ",
     "library": "var_list.py",
     "varRefreshCmd": "print(var_dic_list())"
    },
    "r": {
     "delete_cmd_postfix": ") ",
     "delete_cmd_prefix": "rm(",
     "library": "var_list.r",
     "varRefreshCmd": "cat(var_dic_list()) "
    }
   },
   "types_to_exclude": [
    "module",
    "function",
    "builtin_function_or_method",
    "instance",
    "_Feature"
   ],
   "window_display": false
  }
 },
 "nbformat": 4,
 "nbformat_minor": 2
}
