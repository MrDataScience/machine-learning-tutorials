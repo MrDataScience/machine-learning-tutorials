{
 "cells": [
  {
   "cell_type": "markdown",
   "metadata": {},
   "source": [
    "# How to use the Pytrends API to get Google Trends data\n",
    "By Mr. Data Science"
   ]
  },
  {
   "cell_type": "markdown",
   "metadata": {},
   "source": [
    "## A brief overview:\n",
    "Throughout this article, I will:\n",
    "* Describe the Pytrends python library and the syntax you need to get Google Trends data\n",
    "* Demonstrate how to get google trends data using several examples"
   ]
  },
  {
   "cell_type": "markdown",
   "metadata": {},
   "source": [
    "## These are my assumptions:\n",
    "Since I can't cover everything in this article, I will assume the following:\n",
    "* You have Python>3.3 installed on your machine and know how to use it\n",
    "* You are able to install new python libraries on your own\n",
    "* You want to programmatically get google trends data"
   ]
  },
  {
   "cell_type": "markdown",
   "metadata": {},
   "source": [
    "## Google Trends and the Pytrends library:\n",
    "<strong>Google Trends</strong> is a Google owned website that analyzes search term popularity across various regions and languages. On the [Google Trends site](https://trends.google.com/trends/?geo=US), you can see trending keywords, assess the popularity of specific search terms over different time periods, explore related keywords, and much more. I encourage you to check out their site if you've never been there before. Beware, you'll likely go down a rabbit hole ;). \n",
    "\n",
    "As a curious and innovative human being, you might be interested in tapping into this wonderful resource to make predictions or understand human behavior. The way you do that is using the <strong>Pytrends python library</strong>. Pytrends, according to the [Pytrends PyPI page](https://pypi.org/project/pytrends/), is an unofficial Google Trends API that can be used to extract useful search information using a simple interface. Beware that, due to the unofficial API status, any changes to Google Trend's backend could impact a users' ability to use the library. Make sure Pytrends is still active and up to date when you read this article."
   ]
  },
  {
   "cell_type": "markdown",
   "metadata": {},
   "source": [
    "## Setting up your Python environment:\n",
    "To use the Pytrends API, you will need to do the following:\n",
    "* Make sure you have an internet connection \n",
    "* Open your command prompt and make sure you can run python and pip from your command prompt. See [this link](https://packaging.python.org/tutorials/installing-packages/) if you need help\n",
    "* Run <strong>\"pip install pytrends\"</strong> to install the Pytrends library. \n",
    " * Note that during installation, pip may need to install Requests, lxml, and Pandas. This is normal behavior as these libraries are required for Pytrends to work properly.\n",
    "* Run \"pip freeze\" to display the installed python libraries. verify that pytrends appears on the list."
   ]
  },
  {
   "cell_type": "markdown",
   "metadata": {},
   "source": [
    "## Getting Started"
   ]
  },
  {
   "cell_type": "markdown",
   "metadata": {},
   "source": [
    "The first thing you want to do is establish a connection with google. There are several options for adjusting connection parameters (such as using proxies, timeouts and retries), but that is beyond the scope of this discussion. For now, lets just connect using the following commands."
   ]
  },
  {
   "cell_type": "code",
   "execution_count": 1,
   "metadata": {},
   "outputs": [],
   "source": [
    "# import the TrendReq method from the pytrends request module\n",
    "from pytrends.request import TrendReq\n",
    "\n",
    "# execute the TrendReq method by passing the host language (hl) and timezone (tz) parameters\n",
    "pytrends = TrendReq(hl='en-US', tz=360)"
   ]
  },
  {
   "cell_type": "markdown",
   "metadata": {},
   "source": [
    "After establishing a connection with Google, you must build a payload. For an API, the payload contains relevant request information that helps the service understand what data you want to obtain. A simple payload building example is shown below."
   ]
  },
  {
   "cell_type": "code",
   "execution_count": 2,
   "metadata": {},
   "outputs": [],
   "source": [
    "# build list of keywords\n",
    "kw_list = [\"ai\", \"chicken\", \"space\"] \n",
    "\n",
    "# build the payload\n",
    "pytrends.build_payload(kw_list, timeframe='2015-01-01 2021-01-01', geo='US') "
   ]
  },
  {
   "cell_type": "markdown",
   "metadata": {},
   "source": [
    "In the example, several parameters were used to tell google the type of information we would like to request. \n",
    "* kw_list: a list of keywords to get data for (limit of 5 keywords at a time)\n",
    "* geo: the geographic location.\n",
    "* timeframe: the time frame of interest."
   ]
  },
  {
   "cell_type": "markdown",
   "metadata": {},
   "source": [
    "## Let's look at a few examples:\n",
    "After you've built the payload, you can start to extract useful information using several Pytrends methods. Several examples are shown below:"
   ]
  },
  {
   "cell_type": "markdown",
   "metadata": {},
   "source": [
    "### Example 1: Interest over time\n",
    "First, lets take a look at how these keywords changed in popularity over time. lets get the interest over time and print the top 20 rows to see what the data looks like first."
   ]
  },
  {
   "cell_type": "code",
   "execution_count": 3,
   "metadata": {},
   "outputs": [
    {
     "name": "stdout",
     "output_type": "stream",
     "text": [
      "            ai  chicken  space isPartial\n",
      "date                                    \n",
      "2015-01-01   3       64     31     False\n",
      "2015-02-01   3       59     29     False\n",
      "2015-03-01   3       56     28     False\n",
      "2015-04-01   3       54     29     False\n",
      "2015-05-01   3       53     28     False\n",
      "2015-06-01   2       54     26     False\n",
      "2015-07-01   2       57     26     False\n",
      "2015-08-01   2       57     25     False\n",
      "2015-09-01   2       58     26     False\n",
      "2015-10-01   2       60     28     False\n",
      "2015-11-01   2       57     26     False\n",
      "2015-12-01   2       55     26     False\n",
      "2016-01-01   2       75     27     False\n",
      "2016-02-01   2       70     27     False\n",
      "2016-03-01   3       65     26     False\n",
      "2016-04-01   2       67     28     False\n",
      "2016-05-01   2       64     27     False\n",
      "2016-06-01   2       63     23     False\n",
      "2016-07-01   2       64     23     False\n",
      "2016-08-01   2       62     23     False\n"
     ]
    }
   ],
   "source": [
    "# import pandas module\n",
    "import pandas as pd\n",
    "\n",
    "# store interest over time information in df\n",
    "df = pytrends.interest_over_time()\n",
    "\n",
    "# display the top 20 rows in dataframe\n",
    "print(df.head(20)) "
   ]
  },
  {
   "cell_type": "markdown",
   "metadata": {},
   "source": [
    "Now that we know what the data looks like, lets plot the popularity of each keyword over the time period we requested:"
   ]
  },
  {
   "cell_type": "code",
   "execution_count": 4,
   "metadata": {},
   "outputs": [
    {
     "data": {
      "text/plain": [
       "<matplotlib.legend.Legend at 0x2a0feb275c8>"
      ]
     },
     "execution_count": 4,
     "metadata": {},
     "output_type": "execute_result"
    },
    {
     "data": {
      "image/png": "[encoded data removed]",
      "text/plain": [
       "<Figure size 432x288 with 1 Axes>"
      ]
     },
     "metadata": {
      "needs_background": "light"
     },
     "output_type": "display_data"
    }
   ],
   "source": [
    "# import matplotlib plotting module to visualize data (make sure matplotlib is installed using pip)\n",
    "import matplotlib.pyplot as plt\n",
    "\n",
    "# plot all three trends in same chart\n",
    "plt.figure()\n",
    "plt.plot(df.index,df.ai,'k*')\n",
    "plt.plot(df.index,df.chicken,'r*')\n",
    "plt.plot(df.index,df.space,'b*')\n",
    "plt.legend(['ai','chicken','space'])"
   ]
  },
  {
   "cell_type": "markdown",
   "metadata": {},
   "source": [
    "In the plot above, we can see that:\n",
    "* Chicken is more popular than ai and space (makes sense since people are generally more interested in food)\n",
    "* The popularity of chicken is growing over time whereas ai and space popularity are rather stagnant\n",
    "* There is a spike in chicken's popularity at the beginning of each year (All those new years resolutions)\n",
    "\n",
    "While silly to compare these to each other, you can start to see the power of using google trends for inference. If I was a betting man, I would say chicken's popularity will continue to grow... Lets see how its popularity compares to other meats..."
   ]
  },
  {
   "cell_type": "code",
   "execution_count": 5,
   "metadata": {},
   "outputs": [
    {
     "data": {
      "text/plain": [
       "<matplotlib.legend.Legend at 0x2a0ff464608>"
      ]
     },
     "execution_count": 5,
     "metadata": {},
     "output_type": "execute_result"
    },
    {
     "data": {
      "image/png": "[encoded data removed]",
      "text/plain": [
       "<Figure size 432x288 with 1 Axes>"
      ]
     },
     "metadata": {
      "needs_background": "light"
     },
     "output_type": "display_data"
    }
   ],
   "source": [
    "# build list of keywords\n",
    "kw_list = [\"chicken\", \"beef\", \"pork\", \"salmon\"] \n",
    "\n",
    "# build the payload\n",
    "pytrends.build_payload(kw_list, cat=None, timeframe='2015-01-01 2021-01-01', geo='US') \n",
    "\n",
    "# get the interest over time\n",
    "df = pytrends.interest_over_time()\n",
    "\n",
    "# plot food trends over time\n",
    "plt.figure()\n",
    "plt.plot(df.index,df.chicken,'k*')\n",
    "plt.plot(df.index,df.beef,'r*')\n",
    "plt.plot(df.index,df.pork,'b*')\n",
    "plt.plot(df.index,df.salmon,'g*')\n",
    "plt.legend(['chicken','beef','pork','salmon'])"
   ]
  },
  {
   "cell_type": "markdown",
   "metadata": {},
   "source": [
    "The results indicate that chicken is much more popular than other meats. Don't race to invet in chicken however, the percentage change in popularity appears to be fairly consistent among the different meets..."
   ]
  },
  {
   "cell_type": "code",
   "execution_count": 6,
   "metadata": {},
   "outputs": [
    {
     "data": {
      "text/plain": [
       "<matplotlib.legend.Legend at 0x2a0ff4c30c8>"
      ]
     },
     "execution_count": 6,
     "metadata": {},
     "output_type": "execute_result"
    },
    {
     "data": {
      "image/png": "[encoded data removed]",
      "text/plain": [
       "<Figure size 432x288 with 1 Axes>"
      ]
     },
     "metadata": {
      "needs_background": "light"
     },
     "output_type": "display_data"
    }
   ],
   "source": [
    "# plot normalized food trends over time\n",
    "plt.figure()\n",
    "plt.plot(df.index,df.chicken/df.chicken.iloc[0],'k*')\n",
    "plt.plot(df.index,df.beef/df.beef.iloc[0],'r*')\n",
    "plt.plot(df.index,df.pork/df.pork.iloc[0],'b*')\n",
    "plt.plot(df.index,df.salmon/df.salmon.iloc[0],'g*')\n",
    "plt.legend(['chicken','beef','pork','salmon'])"
   ]
  },
  {
   "cell_type": "markdown",
   "metadata": {},
   "source": [
    "### Example 2: Related topics, queries, and suggestions\n",
    "While interest over time is interesting, you may want to use google trends to find related topics, queries, and/or suggestions. To do so, you can use the related_topics(), related_queries(), and suggestions() methods. \n",
    "\n",
    "First, lets look at related topics:"
   ]
  },
  {
   "cell_type": "code",
   "execution_count": 7,
   "metadata": {},
   "outputs": [],
   "source": [
    "# build the payload\n",
    "pytrends.build_payload(kw_list=['chicken'], timeframe='2015-01-01 2021-01-01', geo='US') \n",
    "\n",
    "# get related topics\n",
    "df_rt = pytrends.related_topics()"
   ]
  },
  {
   "cell_type": "markdown",
   "metadata": {},
   "source": [
    "df_rt is a dictionary of related_topics information. Specifically, the dictionary contains a keyword key and two related topics subkeys ('rising' and 'top'). If you are looking for rising popularity topics, use the 'rising' results. If you just want the top search results, look in 'top'... Lets look at the top 5 rising results:"
   ]
  },
  {
   "cell_type": "code",
   "execution_count": 8,
   "metadata": {},
   "outputs": [
    {
     "name": "stdout",
     "output_type": "stream",
     "text": [
      "   value formattedValue                                               link  \\\n",
      "0  70950       Breakout  /trends/explore?q=/g/11f2wjbq6z&date=2015-01-0...   \n",
      "1   3800        +3,800%  /trends/explore?q=/m/012l6kq_&date=2015-01-01+...   \n",
      "2    650          +650%  /trends/explore?q=/m/0130rtg7&date=2015-01-01+...   \n",
      "3    400          +400%  /trends/explore?q=/m/080hx6n&date=2015-01-01+2...   \n",
      "4    350          +350%  /trends/explore?q=/m/0s8wfcb&date=2015-01-01+2...   \n",
      "\n",
      "       topic_mid                       topic_title          topic_type  \n",
      "0  /g/11f2wjbq6z                       Instant Pot               Topic  \n",
      "1    /m/012l6kq_                         Air fryer               Topic  \n",
      "2    /m/0130rtg7               Chicken Salad Chick  Restaurant company  \n",
      "3     /m/080hx6n                       Hot chicken                Food  \n",
      "4     /m/0s8wfcb  Gus's World Famous Fried Chicken  Restaurant company  \n"
     ]
    }
   ],
   "source": [
    "# display top 5 rising results for the chicken keyword\n",
    "print(df_rt['chicken']['rising'].head(5))"
   ]
  },
  {
   "cell_type": "markdown",
   "metadata": {},
   "source": [
    "In the 'rising' set of results, we can see that instant pot and air fryer searches are among the top rising topics related to chicken. Next, lets see the top topics:"
   ]
  },
  {
   "cell_type": "code",
   "execution_count": 9,
   "metadata": {},
   "outputs": [
    {
     "name": "stdout",
     "output_type": "stream",
     "text": [
      "   value formattedValue  hasData  \\\n",
      "0    100            100     True   \n",
      "1     82             82     True   \n",
      "2     30             30     True   \n",
      "3     12             12     True   \n",
      "4     10             10     True   \n",
      "\n",
      "                                                link   topic_mid  \\\n",
      "0  /trends/explore?q=/m/0f25w9&date=2015-01-01+20...   /m/0f25w9   \n",
      "1  /trends/explore?q=/m/09b5t&date=2015-01-01+202...    /m/09b5t   \n",
      "2  /trends/explore?q=/m/0p57p&date=2015-01-01+202...    /m/0p57p   \n",
      "3  /trends/explore?q=/m/0k5sv46&date=2015-01-01+2...  /m/0k5sv46   \n",
      "4  /trends/explore?q=/m/0dv34&date=2015-01-01+202...    /m/0dv34   \n",
      "\n",
      "      topic_title topic_type  \n",
      "0         Chicken    Poultry  \n",
      "1         Chicken      Birds  \n",
      "2          Recipe      Topic  \n",
      "3  Chicken breast    Chicken  \n",
      "4          Baking      Topic  \n"
     ]
    }
   ],
   "source": [
    "# display top 5 top results for the chicken keyword\n",
    "print(df_rt['chicken']['top'].head(5))"
   ]
  },
  {
   "cell_type": "markdown",
   "metadata": {},
   "source": [
    "These results are less exciting because the word chicken is in 3 of the topic_title rows. However, you can see that the topic_type or category changes. To google, these types of searches provide somewhat different results. \n",
    "\n",
    "Next, lets look at related queries:"
   ]
  },
  {
   "cell_type": "code",
   "execution_count": 10,
   "metadata": {},
   "outputs": [
    {
     "name": "stdout",
     "output_type": "stream",
     "text": [
      "{'chicken': {'top':                      query  value\n",
      "0          chicken recipes    100\n",
      "1           chicken breast     82\n",
      "2            fried chicken     75\n",
      "3             chicken soup     54\n",
      "4            baked chicken     42\n",
      "5            chicken salad     42\n",
      "6            chicken wings     36\n",
      "7          chicken near me     35\n",
      "8           chicken thighs     28\n",
      "9             bake chicken     27\n",
      "10       crock pot chicken     25\n",
      "11         grilled chicken     22\n",
      "12       chicken casserole     22\n",
      "13        crockpot chicken     21\n",
      "14     instant pot chicken     20\n",
      "15        chicken and rice     20\n",
      "16             bbq chicken     19\n",
      "17  chicken breast recipes     16\n",
      "18        parmesan chicken     16\n",
      "19         popeyes chicken     15\n",
      "20     slow cooker chicken     15\n",
      "21                 popeyes     15\n",
      "22     chicken noodle soup     15\n",
      "23         chicken alfredo     14\n",
      "24         chicken pot pie     14, 'rising':                              query  value\n",
      "0              instant pot chicken  41950\n",
      "1      instant pot chicken recipes  16950\n",
      "2       instant pot chicken breast  15400\n",
      "3          air fryer chicken wings  11800\n",
      "4         popeyes chicken sandwich  11450\n",
      "5       popeyes chicken sandwiches   4600\n",
      "6                 churches near me   3050\n",
      "7            chicken wings near me   2700\n",
      "8                  chicken near me   2600\n",
      "9            fried chicken near me   2100\n",
      "10         popeyes chicken near me   1350\n",
      "11  kentucky fried chicken near me   1200\n",
      "12          chicken places near me   1050\n",
      "13                   crack chicken    900\n",
      "14                    viva chicken    900\n",
      "15              chicken and pickle    750\n",
      "16           nashville hot chicken    650\n",
      "17        chicken salad chick menu    550\n",
      "18             chicken salad chick    450\n",
      "19          krispy krunchy chicken    350\n",
      "20                  brahma chicken    300\n",
      "21            honey garlic chicken    250\n",
      "22                     gus chicken    180\n",
      "23               gus fried chicken    150\n",
      "24           chicken internal temp    150}}\n"
     ]
    }
   ],
   "source": [
    "# build the payload\n",
    "pytrends.build_payload(kw_list=['chicken'], timeframe='2015-01-01 2021-01-01', geo='US') \n",
    "\n",
    "# get related queries\n",
    "df_rq = pytrends.related_queries()\n",
    "\n",
    "# display df_rq\n",
    "print(df_rq)"
   ]
  },
  {
   "cell_type": "markdown",
   "metadata": {},
   "source": [
    "Like related_topics, related_queries returns a dictionary containing top and rising query results.\n",
    "\n",
    "Finally, we can get suggested search keywords as shown below:"
   ]
  },
  {
   "cell_type": "code",
   "execution_count": 11,
   "metadata": {},
   "outputs": [
    {
     "name": "stdout",
     "output_type": "stream",
     "text": [
      "[{'mid': '/m/09b5t', 'title': 'Chicken', 'type': 'Birds'}, {'mid': '/m/0f25w9', 'title': 'Chicken', 'type': 'Poultry'}, {'mid': '/m/01r6j', 'title': 'Chickenpox', 'type': 'Disease'}, {'mid': '/m/09b6t', 'title': 'KFC', 'type': 'Fast food restaurant company'}, {'mid': '/m/02df9j', 'title': 'Red junglefowl', 'type': 'Birds'}]\n"
     ]
    }
   ],
   "source": [
    "# get suggestions\n",
    "df_s = pytrends.suggestions('chicken')\n",
    "\n",
    "# display df_rq\n",
    "print(df_s)"
   ]
  },
  {
   "cell_type": "markdown",
   "metadata": {},
   "source": [
    "Unlike related_topics and related_queries, suggestions does not require that a payload be built first. Instead, the keyword is passed to the method. The suggestions are just like the \"autocomplete\" information you get when typing in your search."
   ]
  },
  {
   "cell_type": "markdown",
   "metadata": {},
   "source": [
    "### Example 3: Trending searches and top search charts\n",
    "In the final set of examples, lets look at trending and top search results. This use case is more exploratory than the others and helps answer the question, \"what are other people searching for\". First, lets look at trending searches. "
   ]
  },
  {
   "cell_type": "code",
   "execution_count": 12,
   "metadata": {},
   "outputs": [
    {
     "data": {
      "text/html": [
       "<div>\n",
       "<style scoped>\n",
       "    .dataframe tbody tr th:only-of-type {\n",
       "        vertical-align: middle;\n",
       "    }\n",
       "\n",
       "    .dataframe tbody tr th {\n",
       "        vertical-align: top;\n",
       "    }\n",
       "\n",
       "    .dataframe thead th {\n",
       "        text-align: right;\n",
       "    }\n",
       "</style>\n",
       "<table border=\"1\" class=\"dataframe\">\n",
       "  <thead>\n",
       "    <tr style=\"text-align: right;\">\n",
       "      <th></th>\n",
       "      <th>0</th>\n",
       "    </tr>\n",
       "  </thead>\n",
       "  <tbody>\n",
       "    <tr>\n",
       "      <th>0</th>\n",
       "      <td>Larry King</td>\n",
       "    </tr>\n",
       "    <tr>\n",
       "      <th>1</th>\n",
       "      <td>FA Cup</td>\n",
       "    </tr>\n",
       "    <tr>\n",
       "      <th>2</th>\n",
       "      <td>Hank Aaron COVID vaccine</td>\n",
       "    </tr>\n",
       "    <tr>\n",
       "      <th>3</th>\n",
       "      <td>Mega Millions</td>\n",
       "    </tr>\n",
       "    <tr>\n",
       "      <th>4</th>\n",
       "      <td>Hank Aaron</td>\n",
       "    </tr>\n",
       "    <tr>\n",
       "      <th>5</th>\n",
       "      <td>JoJo Siwa</td>\n",
       "    </tr>\n",
       "    <tr>\n",
       "      <th>6</th>\n",
       "      <td>UFC 257</td>\n",
       "    </tr>\n",
       "    <tr>\n",
       "      <th>7</th>\n",
       "      <td>Sabrina Carpenter</td>\n",
       "    </tr>\n",
       "    <tr>\n",
       "      <th>8</th>\n",
       "      <td>Nets</td>\n",
       "    </tr>\n",
       "    <tr>\n",
       "      <th>9</th>\n",
       "      <td>Fate: The Winx Saga</td>\n",
       "    </tr>\n",
       "    <tr>\n",
       "      <th>10</th>\n",
       "      <td>Kristin Cavallari</td>\n",
       "    </tr>\n",
       "    <tr>\n",
       "      <th>11</th>\n",
       "      <td>Marjorie Taylor Greene</td>\n",
       "    </tr>\n",
       "    <tr>\n",
       "      <th>12</th>\n",
       "      <td>Dan Campbell</td>\n",
       "    </tr>\n",
       "    <tr>\n",
       "      <th>13</th>\n",
       "      <td>The White Tiger</td>\n",
       "    </tr>\n",
       "    <tr>\n",
       "      <th>14</th>\n",
       "      <td>Madison Cawthorn</td>\n",
       "    </tr>\n",
       "    <tr>\n",
       "      <th>15</th>\n",
       "      <td>Lloyd Austin</td>\n",
       "    </tr>\n",
       "    <tr>\n",
       "      <th>16</th>\n",
       "      <td>Tom Brokaw</td>\n",
       "    </tr>\n",
       "    <tr>\n",
       "      <th>17</th>\n",
       "      <td>WandaVision episode 3</td>\n",
       "    </tr>\n",
       "    <tr>\n",
       "      <th>18</th>\n",
       "      <td>Xbox Live Gold</td>\n",
       "    </tr>\n",
       "    <tr>\n",
       "      <th>19</th>\n",
       "      <td>N95 mask</td>\n",
       "    </tr>\n",
       "  </tbody>\n",
       "</table>\n",
       "</div>"
      ],
      "text/plain": [
       "                           0\n",
       "0                 Larry King\n",
       "1                     FA Cup\n",
       "2   Hank Aaron COVID vaccine\n",
       "3              Mega Millions\n",
       "4                 Hank Aaron\n",
       "5                  JoJo Siwa\n",
       "6                    UFC 257\n",
       "7          Sabrina Carpenter\n",
       "8                       Nets\n",
       "9        Fate: The Winx Saga\n",
       "10         Kristin Cavallari\n",
       "11    Marjorie Taylor Greene\n",
       "12              Dan Campbell\n",
       "13           The White Tiger\n",
       "14          Madison Cawthorn\n",
       "15              Lloyd Austin\n",
       "16                Tom Brokaw\n",
       "17     WandaVision episode 3\n",
       "18            Xbox Live Gold\n",
       "19                  N95 mask"
      ]
     },
     "execution_count": 12,
     "metadata": {},
     "output_type": "execute_result"
    }
   ],
   "source": [
    "pytrends.trending_searches(pn='united_states')"
   ]
  },
  {
   "cell_type": "markdown",
   "metadata": {},
   "source": [
    "On 1/23/2021, these were the trending search results in the United States. Simply change pn to the location you desire in order to get trending information for your area of interest.\n",
    "\n",
    "to get top results, you must include the date. host language(hl), timezone(tz) and geographic location(geo) are optional inputs. "
   ]
  },
  {
   "cell_type": "code",
   "execution_count": 13,
   "metadata": {},
   "outputs": [
    {
     "data": {
      "text/html": [
       "<div>\n",
       "<style scoped>\n",
       "    .dataframe tbody tr th:only-of-type {\n",
       "        vertical-align: middle;\n",
       "    }\n",
       "\n",
       "    .dataframe tbody tr th {\n",
       "        vertical-align: top;\n",
       "    }\n",
       "\n",
       "    .dataframe thead th {\n",
       "        text-align: right;\n",
       "    }\n",
       "</style>\n",
       "<table border=\"1\" class=\"dataframe\">\n",
       "  <thead>\n",
       "    <tr style=\"text-align: right;\">\n",
       "      <th></th>\n",
       "      <th>title</th>\n",
       "      <th>exploreQuery</th>\n",
       "    </tr>\n",
       "  </thead>\n",
       "  <tbody>\n",
       "    <tr>\n",
       "      <th>0</th>\n",
       "      <td>Election results</td>\n",
       "      <td></td>\n",
       "    </tr>\n",
       "    <tr>\n",
       "      <th>1</th>\n",
       "      <td>Coronavirus</td>\n",
       "      <td></td>\n",
       "    </tr>\n",
       "    <tr>\n",
       "      <th>2</th>\n",
       "      <td>Kobe Bryant</td>\n",
       "      <td></td>\n",
       "    </tr>\n",
       "    <tr>\n",
       "      <th>3</th>\n",
       "      <td>Coronavirus update</td>\n",
       "      <td></td>\n",
       "    </tr>\n",
       "    <tr>\n",
       "      <th>4</th>\n",
       "      <td>Coronavirus symptoms</td>\n",
       "      <td></td>\n",
       "    </tr>\n",
       "    <tr>\n",
       "      <th>5</th>\n",
       "      <td>Zoom</td>\n",
       "      <td></td>\n",
       "    </tr>\n",
       "    <tr>\n",
       "      <th>6</th>\n",
       "      <td>Who is winning the election</td>\n",
       "      <td></td>\n",
       "    </tr>\n",
       "    <tr>\n",
       "      <th>7</th>\n",
       "      <td>Naya Rivera</td>\n",
       "      <td></td>\n",
       "    </tr>\n",
       "    <tr>\n",
       "      <th>8</th>\n",
       "      <td>Chadwick Boseman</td>\n",
       "      <td></td>\n",
       "    </tr>\n",
       "    <tr>\n",
       "      <th>9</th>\n",
       "      <td>PlayStation 5</td>\n",
       "      <td>PS5</td>\n",
       "    </tr>\n",
       "  </tbody>\n",
       "</table>\n",
       "</div>"
      ],
      "text/plain": [
       "                         title exploreQuery\n",
       "0             Election results             \n",
       "1                  Coronavirus             \n",
       "2                  Kobe Bryant             \n",
       "3           Coronavirus update             \n",
       "4         Coronavirus symptoms             \n",
       "5                         Zoom             \n",
       "6  Who is winning the election             \n",
       "7                  Naya Rivera             \n",
       "8             Chadwick Boseman             \n",
       "9                PlayStation 5          PS5"
      ]
     },
     "execution_count": 13,
     "metadata": {},
     "output_type": "execute_result"
    }
   ],
   "source": [
    "# get top charts results. Note that date must be provided in the following format: 'YYYY' or 'YYYYMM'\n",
    "pytrends.top_charts(date='2020', hl='en-US', tz=360, geo='US')"
   ]
  },
  {
   "cell_type": "markdown",
   "metadata": {},
   "source": [
    "## An IMPORTANT note on multiple api requests:\n",
    "Before concluding our discussion on using Pytrends, I wanted to leave you with a brief warning. Like any site, Google has specific terms of service that you should review prior to using Pytrends. If you overuse the Pytrends API, Google WILL throttle your access to their site. According to the Pytrends PyPI page, the Google Trends request rate limit is not publicly known. Apparently, one user reported that 1,400 sequential requests of a 4 hour timeframe got them to the limit, but this likely varies with query size and request frequency. Upon reaching the rate limit, Google will throttle future requests. At least 60 seconds of sleep will be necessary once you hit the limit. Please note that this may change over time. I will do my best to keep this post current. "
   ]
  },
  {
   "cell_type": "markdown",
   "metadata": {},
   "source": [
    "## A quick review of what you've learned:\n",
    "If you've made it this far, you are more than ready to use Pytrends in your application. Specifically, you've learned:\n",
    "* How to install the Pytrends library\n",
    "* How to establish a connection with Google and Build an API payload using Pytrends\n",
    "* How to get interest over time for multiple keywords by geographic location, timezones, and date ranges\n",
    "* How to get keyword related topics, queries, and suggestions\n",
    "* How to identify trending and top search results\n",
    "\n",
    "If you have any feedback or suggestions for improving this article, we would love to hear from you. Please reach out via Medium, GitHub, or our [website](https://www.mrdatascience.com)."
   ]
  },
  {
   "cell_type": "markdown",
   "metadata": {},
   "source": [
    "## References:\n",
    "* Pytrends 4.7.3. https://pypi.org/project/pytrends/\n",
    "* Google Trends. https://trends.google.com/trends/?geo=US\n",
    "* Installing Packages. https://packaging.python.org/tutorials/installing-packages/"
   ]
  },
  {
   "cell_type": "markdown",
   "metadata": {},
   "source": [
    "## Connect With Mr Data Science:\n",
    "<a href=\"https://www.mrdatascience.com\">MrDataScience.com</a>,\n",
    "<a href=\"https://github.com/MrDataScience\">GitHub</a>,\n",
    "<a href=\"https://medium.com/@mrdatascience\">Medium</a>,\n"
   ]
  }
 ],
 "metadata": {
  "kernelspec": {
   "display_name": "Python 3",
   "language": "python",
   "name": "python3"
  },
  "language_info": {
   "codemirror_mode": {
    "name": "ipython",
    "version": 3
   },
   "file_extension": ".py",
   "mimetype": "text/x-python",
   "name": "python",
   "nbconvert_exporter": "python",
   "pygments_lexer": "ipython3",
   "version": "3.7.8"
  },
  "toc": {
   "base_numbering": 1,
   "nav_menu": {},
   "number_sections": false,
   "sideBar": true,
   "skip_h1_title": false,
   "title_cell": "Table of Contents",
   "title_sidebar": "Contents",
   "toc_cell": false,
   "toc_position": {},
   "toc_section_display": true,
   "toc_window_display": true
  },
  "varInspector": {
   "cols": {
    "lenName": 16,
    "lenType": 16,
    "lenVar": 40
   },
   "kernels_config": {
    "python": {
     "delete_cmd_postfix": "",
     "delete_cmd_prefix": "del ",
     "library": "var_list.py",
     "varRefreshCmd": "print(var_dic_list())"
    },
    "r": {
     "delete_cmd_postfix": ") ",
     "delete_cmd_prefix": "rm(",
     "library": "var_list.r",
     "varRefreshCmd": "cat(var_dic_list()) "
    }
   },
   "types_to_exclude": [
    "module",
    "function",
    "builtin_function_or_method",
    "instance",
    "_Feature"
   ],
   "window_display": false
  }
 },
 "nbformat": 4,
 "nbformat_minor": 2
}
